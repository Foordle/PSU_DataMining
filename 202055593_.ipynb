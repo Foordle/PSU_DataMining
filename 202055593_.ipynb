{
 "cells": [
  {
   "cell_type": "markdown",
   "metadata": {},
   "source": [
    "1. 데이터 로드 및 전처리"
   ]
  },
  {
   "cell_type": "code",
   "execution_count": 10,
   "metadata": {},
   "outputs": [
    {
     "name": "stdout",
     "output_type": "stream",
     "text": [
      "   범죄중분류  생활정도(계)  생활정도(하류)  생활정도(중류)  생활정도(상류)  생활정도(미상)  혼인관계(계)  혼인관계(소계)  \\\n",
      "0   살인기수      341       172        72         6        91      341       158   \n",
      "1  살인미수등      454       276        93         3        82      454       234   \n",
      "2     강도     1202       713       327        15       147     1202       257   \n",
      "3     강간     6113      1831      1987        78      2217     6113      1295   \n",
      "4   유사강간      934       331       362         7       234      934       236   \n",
      "\n",
      "   혼인관계(유배우자)  혼인관계(동거)  ...  미혼자부모관계(실(양)부모)  미혼자부모관계(계부모)  미혼자부모관계(실부계모)  \\\n",
      "0          81         7  ...               45             0              2   \n",
      "1         123        19  ...               82             1              0   \n",
      "2         144        23  ...              615             2              8   \n",
      "3         798        65  ...             1998             8             23   \n",
      "4         145         9  ...              352             1              4   \n",
      "\n",
      "   미혼자부모관계(실부무모)  미혼자부모관계(실모계부)  미혼자부모관계(실모무부)  미혼자부모관계(계부무모)  미혼자부모관계(계모무부)  \\\n",
      "0              8              0             17              0              0   \n",
      "1             10              1             19              0              1   \n",
      "2             37              8             69              0              3   \n",
      "3            143             19            270              0              2   \n",
      "4             21              3             55              0              1   \n",
      "\n",
      "   미혼자부모관계(무부모)    미상  \n",
      "0            20    91  \n",
      "1            24    82  \n",
      "2            56   147  \n",
      "3           139  2216  \n",
      "4            29   232  \n",
      "\n",
      "[5 rows x 23 columns]\n"
     ]
    }
   ],
   "source": [
    "import pandas as pd\n",
    "# CSV 데이터 로드\n",
    "file_path = '경찰청_범죄자 생활정도, 혼인관계 및 부모관계_12_31_2020.csv'  # 파일 경로\n",
    "data = pd.read_csv(file_path, encoding='cp949')  # 필요 시 cp949로 변경\n",
    "\n",
    "\n",
    "\n",
    "# 데이터 확인\n",
    "print(data.head())\n"
   ]
  },
  {
   "cell_type": "markdown",
   "metadata": {},
   "source": [
    "2. 불리언 변환\n",
    "생활정도, 혼인관계, 미혼자부모관계와 같은 속성을 \"있음(1)\" 또는 \"없음(0)\"으로 변환합니다."
   ]
  },
  {
   "cell_type": "code",
   "execution_count": 11,
   "metadata": {},
   "outputs": [],
   "source": [
    "# 불리언 변환\n",
    "\n",
    "# 범죄중분류를 원핫 인코딩으로 변환\n",
    "encoded_data = pd.get_dummies(data['범죄중분류'])\n",
    "binary_data = pd.concat([encoded_data, data.iloc[:, 2:]], axis=1)  # 범죄중분류 + 나머지 속성\n",
    "\n",
    "for col in data.columns[2:]:  # 범죄중분류 이후의 속성들만 변환\n",
    "    binary_data[col] = data[col] > 0  # 0보다 크면 True, 아니면 False\n",
    "\n",
    "# 희소 데이터 제거 (너무 자주 등장하는 항목 제거)\n",
    "columns_to_keep = binary_data.columns[binary_data.mean() < 0.9]\n",
    "binary_data = binary_data[columns_to_keep]\n",
    "\n",
    "# 데이터 샘플링 (10% 샘플링)\n",
    "binary_data_sample = binary_data.sample(frac=0.1, random_state=42)"
   ]
  },
  {
   "cell_type": "markdown",
   "metadata": {},
   "source": [
    "3. Apriori 알고리즘을 사용해 빈발 항목 집합 생성"
   ]
  },
  {
   "cell_type": "code",
   "execution_count": 12,
   "metadata": {},
   "outputs": [
    {
     "name": "stdout",
     "output_type": "stream",
     "text": [
      "Frequent Itemsets:\n",
      "    support         itemsets\n",
      "0  0.710526   (미혼자부모관계(계부모))\n",
      "1  0.710526  (미혼자부모관계(실부계모))\n",
      "2  0.763158  (미혼자부모관계(실모계부))\n",
      "3  0.500000  (미혼자부모관계(계부무모))\n",
      "4  0.605263  (미혼자부모관계(계모무부))\n"
     ]
    }
   ],
   "source": [
    "from mlxtend.frequent_patterns import apriori\n",
    "\n",
    "# Apriori 실행 (min_support 및 max_len 설정)\n",
    "frequent_itemsets = apriori(binary_data, min_support=0.4, max_len=2, use_colnames=True)\n",
    "\n",
    "print(\"Frequent Itemsets:\")\n",
    "print(frequent_itemsets.head())\n"
   ]
  },
  {
   "cell_type": "markdown",
   "metadata": {},
   "source": [
    "4. 연관 규칙 생성"
   ]
  },
  {
   "cell_type": "code",
   "execution_count": 13,
   "metadata": {},
   "outputs": [
    {
     "name": "stdout",
     "output_type": "stream",
     "text": [
      "num_itemsets: 15\n",
      "Top 10 Rules:        antecedents      consequents  antecedent support  consequent support  \\\n",
      "0   (미혼자부모관계(계부모))  (미혼자부모관계(실부계모))            0.710526            0.710526   \n",
      "1  (미혼자부모관계(실부계모))   (미혼자부모관계(계부모))            0.710526            0.710526   \n",
      "2   (미혼자부모관계(계부모))  (미혼자부모관계(실모계부))            0.710526            0.763158   \n",
      "3  (미혼자부모관계(실모계부))   (미혼자부모관계(계부모))            0.763158            0.710526   \n",
      "4   (미혼자부모관계(계부모))  (미혼자부모관계(계부무모))            0.710526            0.500000   \n",
      "5  (미혼자부모관계(계부무모))   (미혼자부모관계(계부모))            0.500000            0.710526   \n",
      "6   (미혼자부모관계(계부모))  (미혼자부모관계(계모무부))            0.710526            0.605263   \n",
      "7  (미혼자부모관계(계모무부))   (미혼자부모관계(계부모))            0.605263            0.710526   \n",
      "8  (미혼자부모관계(실모계부))  (미혼자부모관계(실부계모))            0.763158            0.710526   \n",
      "9  (미혼자부모관계(실부계모))  (미혼자부모관계(실모계부))            0.710526            0.763158   \n",
      "\n",
      "    support  confidence      lift  representativity  leverage  conviction  \\\n",
      "0  0.657895    0.925926  1.303155               1.0  0.153047    3.907895   \n",
      "1  0.657895    0.925926  1.303155               1.0  0.153047    3.907895   \n",
      "2  0.684211    0.962963  1.261814               1.0  0.141967    6.394737   \n",
      "3  0.684211    0.896552  1.261814               1.0  0.141967    2.798246   \n",
      "4  0.500000    0.703704  1.407407               1.0  0.144737    1.687500   \n",
      "5  0.500000    1.000000  1.407407               1.0  0.144737         inf   \n",
      "6  0.605263    0.851852  1.407407               1.0  0.175208    2.664474   \n",
      "7  0.605263    1.000000  1.407407               1.0  0.175208         inf   \n",
      "8  0.684211    0.896552  1.261814               1.0  0.141967    2.798246   \n",
      "9  0.684211    0.962963  1.261814               1.0  0.141967    6.394737   \n",
      "\n",
      "   zhangs_metric   jaccard  certainty  kulczynski  \n",
      "0       0.803636  0.862069   0.744108    0.925926  \n",
      "1       0.803636  0.862069   0.744108    0.925926  \n",
      "2       0.716783  0.866667   0.843621    0.929757  \n",
      "3       0.876068  0.866667   0.642633    0.929757  \n",
      "4       1.000000  0.703704   0.407407    0.851852  \n",
      "5       0.578947  0.703704   1.000000    0.851852  \n",
      "6       1.000000  0.851852   0.624691    0.925926  \n",
      "7       0.733333  0.851852   1.000000    0.925926  \n",
      "8       0.876068  0.866667   0.642633    0.929757  \n",
      "9       0.716783  0.866667   0.843621    0.929757  \n"
     ]
    }
   ],
   "source": [
    "from mlxtend.frequent_patterns import association_rules\n",
    "\n",
    "# 빈발 항목 집합의 개수 계산\n",
    "num_itemsets = len(frequent_itemsets)\n",
    "print(\"num_itemsets: \" + str(num_itemsets))\n",
    "# 연관 규칙 생성\n",
    "rules = association_rules(frequent_itemsets, metric=\"confidence\", min_threshold=0.5, num_itemsets=num_itemsets)\n",
    "print(\"Top 10 Rules: \" + str(rules.head(10)))\n",
    "\n"
   ]
  },
  {
   "cell_type": "markdown",
   "metadata": {},
   "source": [
    "5-1. 시각화\n",
    "Support vs Confidence\n",
    "규칙의 지지도(Support)와 신뢰도(Confidence)를 시각화합니다."
   ]
  },
  {
   "cell_type": "code",
   "execution_count": 14,
   "metadata": {},
   "outputs": [
    {
     "data": {
      "image/png": "[encoded data removed]",
      "text/plain": [
       "<Figure size 1000x600 with 1 Axes>"
      ]
     },
     "metadata": {},
     "output_type": "display_data"
    }
   ],
   "source": [
    "import matplotlib.pyplot as plt\n",
    "\n",
    "plt.figure(figsize=(10, 6))\n",
    "plt.scatter(rules['support'], rules['confidence'], alpha=0.6)\n",
    "plt.xlabel('Support')\n",
    "plt.ylabel('Confidence')\n",
    "plt.title('Support vs Confidence')\n",
    "plt.show()\n"
   ]
  },
  {
   "cell_type": "markdown",
   "metadata": {},
   "source": [
    "5-2. Lift 분포\n",
    "규칙의 향상도(Lift) 분포를 시각화합니다."
   ]
  },
  {
   "cell_type": "code",
   "execution_count": 15,
   "metadata": {},
   "outputs": [
    {
     "data": {
      "image/png": "[encoded data removed]",
      "text/plain": [
       "<Figure size 640x480 with 1 Axes>"
      ]
     },
     "metadata": {},
     "output_type": "display_data"
    }
   ],
   "source": [
    "plt.hist(rules['lift'], bins=20, color='blue', alpha=0.7)\n",
    "plt.xlabel('Lift')\n",
    "plt.ylabel('Frequency')\n",
    "plt.title('Distribution of Lift')\n",
    "plt.show()\n"
   ]
  },
  {
   "cell_type": "markdown",
   "metadata": {},
   "source": [
    "6. 결과 해석\n",
    "생성된 연관 규칙에서 범죄 항목간의 관계를 분석합니다.\n",
    "상위 Lift 기반 규칙 출력\n",
    "향상도(Lift)가 높은 상위 10개의 규칙을 출력합니다."
   ]
  },
  {
   "cell_type": "code",
   "execution_count": 16,
   "metadata": {},
   "outputs": [
    {
     "name": "stdout",
     "output_type": "stream",
     "text": [
      "Top 10 Rules by Lift:\n",
      "        antecedents      consequents  antecedent support  consequent support  \\\n",
      "18  (미혼자부모관계(계모무부))  (미혼자부모관계(계부무모))            0.605263            0.500000   \n",
      "19  (미혼자부모관계(계부무모))  (미혼자부모관계(계모무부))            0.500000            0.605263   \n",
      "5   (미혼자부모관계(계부무모))   (미혼자부모관계(계부모))            0.500000            0.710526   \n",
      "4    (미혼자부모관계(계부모))  (미혼자부모관계(계부무모))            0.710526            0.500000   \n",
      "6    (미혼자부모관계(계부모))  (미혼자부모관계(계모무부))            0.710526            0.605263   \n",
      "7   (미혼자부모관계(계모무부))   (미혼자부모관계(계부모))            0.605263            0.710526   \n",
      "13  (미혼자부모관계(실부계모))  (미혼자부모관계(계모무부))            0.710526            0.605263   \n",
      "12  (미혼자부모관계(계모무부))  (미혼자부모관계(실부계모))            0.605263            0.710526   \n",
      "10  (미혼자부모관계(계부무모))  (미혼자부모관계(실부계모))            0.500000            0.710526   \n",
      "11  (미혼자부모관계(실부계모))  (미혼자부모관계(계부무모))            0.710526            0.500000   \n",
      "\n",
      "     support  confidence      lift  representativity  leverage  conviction  \\\n",
      "18  0.447368    0.739130  1.478261               1.0  0.144737    1.916667   \n",
      "19  0.447368    0.894737  1.478261               1.0  0.144737    3.750000   \n",
      "5   0.500000    1.000000  1.407407               1.0  0.144737         inf   \n",
      "4   0.500000    0.703704  1.407407               1.0  0.144737    1.687500   \n",
      "6   0.605263    0.851852  1.407407               1.0  0.175208    2.664474   \n",
      "7   0.605263    1.000000  1.407407               1.0  0.175208         inf   \n",
      "13  0.578947    0.814815  1.346216               1.0  0.148892    2.131579   \n",
      "12  0.578947    0.956522  1.346216               1.0  0.148892    6.657895   \n",
      "10  0.473684    0.947368  1.333333               1.0  0.118421    5.500000   \n",
      "11  0.473684    0.666667  1.333333               1.0  0.118421    1.500000   \n",
      "\n",
      "    zhangs_metric   jaccard  certainty  kulczynski  \n",
      "18       0.819608  0.680000   0.478261    0.816934  \n",
      "19       0.647059  0.680000   0.733333    0.816934  \n",
      "5        0.578947  0.703704   1.000000    0.851852  \n",
      "4        1.000000  0.703704   0.407407    0.851852  \n",
      "6        1.000000  0.851852   0.624691    0.925926  \n",
      "7        0.733333  0.851852   1.000000    0.925926  \n",
      "13       0.888430  0.785714   0.530864    0.885668  \n",
      "12       0.651515  0.785714   0.849802    0.885668  \n",
      "10       0.500000  0.642857   0.818182    0.807018  \n",
      "11       0.863636  0.642857   0.333333    0.807018  \n"
     ]
    }
   ],
   "source": [
    "top_lift_rules = rules.sort_values('lift', ascending=False).head(10)\n",
    "print(\"Top 10 Rules by Lift:\")\n",
    "print(top_lift_rules)\n"
   ]
  }
 ],
 "metadata": {
  "kernelspec": {
   "display_name": "Python 3",
   "language": "python",
   "name": "python3"
  },
  "language_info": {
   "codemirror_mode": {
    "name": "ipython",
    "version": 3
   },
   "file_extension": ".py",
   "mimetype": "text/x-python",
   "name": "python",
   "nbconvert_exporter": "python",
   "pygments_lexer": "ipython3",
   "version": "3.12.8"
  }
 },
 "nbformat": 4,
 "nbformat_minor": 2
}
